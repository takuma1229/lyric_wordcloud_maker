{
 "cells": [
  {
   "cell_type": "code",
   "execution_count": 1,
   "metadata": {},
   "outputs": [],
   "source": [
    "import sys\n",
    "sys.path.append(\"/Users/ruinz/.pyenv/versions/3.9.5/lib/python3.9/site-packages\")\n",
    "import requests\n",
    "from bs4 import BeautifulSoup\n",
    "import pandas as pd\n",
    "import time\n",
    "import re\n",
    "from datetime import datetime\n",
    "from IPython.display import clear_output"
   ]
  },
  {
   "cell_type": "code",
   "execution_count": null,
   "metadata": {},
   "outputs": [],
   "source": [
    " "
   ]
  },
  {
   "cell_type": "code",
   "execution_count": 2,
   "metadata": {},
   "outputs": [],
   "source": [
    "def make_df(artist_name, artist_number, page_count):  \n",
    "    list_df = pd.DataFrame(columns=['曲名','発売日', '表示回数', '歌詞']) \n",
    "    for page in range(1,page_count+1): # アーティストの歌詞一覧のページ数に応じて設定。米津玄師の場合は1ページのみ\n",
    "        base_url = 'https://www.uta-net.com'\n",
    "\n",
    "        #歌詞一覧ページ\n",
    "        url = f'https://www.uta-net.com/artist/{artist_number}/0/' + str(page) + '/'\n",
    "        response = requests.get(url)\n",
    "        soup = BeautifulSoup(response.text, 'lxml')\n",
    "        links = soup.find_all('td', class_='side td1')\n",
    "\n",
    "        for link in links:\n",
    "                a = base_url + (link.a.get('href'))\n",
    "\n",
    "                #歌詞詳細ページ\n",
    "                response = requests.get(a)\n",
    "                soup = BeautifulSoup(response.text, 'lxml')\n",
    "\n",
    "                # 曲名を取得\n",
    "                song_name = soup.find('h2').text\n",
    "\n",
    "                # 発売日、表示回数などを取得\n",
    "                detail = soup.find('p', class_=\"detail\").text\n",
    "\n",
    "                # 発売日を取得\n",
    "                match = re.search(r'\\d{4}/\\d{2}/\\d{2}', detail)\n",
    "                release_date = datetime.strptime(match.group(), '%Y/%m/%d').date()\n",
    "\n",
    "                # 表示回数を取得\n",
    "                p = r'この曲の表示回数：(.*)回'\n",
    "                impressions = re.search(p, detail).group(1)\n",
    "\n",
    "                # 歌詞を取得\n",
    "                song_lyrics = soup.find('div', itemprop='lyrics')\n",
    "                print(type(song_lyrics))\n",
    "                # song_lyrics = song_lyrics.replace(\"<br/>\", \"。\")\n",
    "                song_lyric = song_lyrics.text\n",
    "                song_lyric = song_lyric.replace('\\n','')\n",
    "                song_lyric = song_lyric.replace('\\r', \"。\")\n",
    "                song_lyric = song_lyric.replace('この歌詞をマイ歌ネットに登録 >このアーティストをマイ歌ネットに登録 >','')\n",
    "\n",
    "                #サーバーに負荷を与えないため1秒待機\n",
    "                time.sleep(1)\n",
    "\n",
    "                #取得した歌詞を表に追加\n",
    "                tmp_se = pd.DataFrame([[song_name], [release_date], [impressions], [song_lyric]], index=list_df.columns).T\n",
    "                list_df = list_df.append(tmp_se)\n",
    "                list_df.to_csv(f'./csv/{artist_name}.csv')\n",
    "# clear_output()"
   ]
  },
  {
   "cell_type": "code",
   "execution_count": null,
   "metadata": {},
   "outputs": [],
   "source": []
  },
  {
   "cell_type": "code",
   "execution_count": 5,
   "metadata": {},
   "outputs": [],
   "source": [
    "make_df(\"mom\", 26679, 1)\n",
    "clear_output()"
   ]
  },
  {
   "cell_type": "code",
   "execution_count": null,
   "metadata": {},
   "outputs": [],
   "source": []
  },
  {
   "cell_type": "code",
   "execution_count": 4,
   "metadata": {},
   "outputs": [
    {
     "name": "stdout",
     "output_type": "stream",
     "text": [
      "/Users/ruinz/Desktop/スクレイピング/scraping/lyric_analysis\n",
      "\u001b[34mcsv\u001b[m\u001b[m                    lyric_word_cloud.ipynb\n",
      "\u001b[34mfonts\u001b[m\u001b[m                  make_dataframe.ipynb\n"
     ]
    }
   ],
   "source": [
    "!pwd\n",
    "!ls "
   ]
  },
  {
   "cell_type": "code",
   "execution_count": null,
   "metadata": {},
   "outputs": [],
   "source": []
  }
 ],
 "metadata": {
  "kernelspec": {
   "display_name": "Python 3.9.10 64-bit",
   "name": "python3910jvsc74a57bd0ac2eaa0ea0ebeafcc7822e65e46aa9d4f966f30b695406963e145ea4a91cd4fc"
  },
  "language_info": {
   "codemirror_mode": {
    "name": "ipython",
    "version": 3
   },
   "file_extension": ".py",
   "mimetype": "text/x-python",
   "name": "python",
   "nbconvert_exporter": "python",
   "pygments_lexer": "ipython3",
   "version": "3.9.10"
  },
  "metadata": {
   "interpreter": {
    "hash": "ac2eaa0ea0ebeafcc7822e65e46aa9d4f966f30b695406963e145ea4a91cd4fc"
   }
  },
  "orig_nbformat": 2
 },
 "nbformat": 4,
 "nbformat_minor": 2
}